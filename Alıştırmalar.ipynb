{
  "nbformat": 4,
  "nbformat_minor": 0,
  "metadata": {
    "colab": {
      "provenance": [],
      "mount_file_id": "1VnaCG0uEjIG7WvGJL4ZbaOcXIF1j5HRX",
      "authorship_tag": "ABX9TyPKlizx4kAvO924FHLmE1sl",
      "include_colab_link": true
    },
    "kernelspec": {
      "name": "python3",
      "display_name": "Python 3"
    },
    "language_info": {
      "name": "python"
    }
  },
  "cells": [
    {
      "cell_type": "markdown",
      "metadata": {
        "id": "view-in-github",
        "colab_type": "text"
      },
      "source": [
        "<a href=\"https://colab.research.google.com/github/orcunmadran/hu-bby162-2023/blob/main/Al%C4%B1%C5%9Ft%C4%B1rmalar.ipynb\" target=\"_parent\"><img src=\"https://colab.research.google.com/assets/colab-badge.svg\" alt=\"Open In Colab\"/></a>"
      ]
    },
    {
      "cell_type": "code",
      "source": [
        "# Neden Sınıf Kullanıyoruz - 1\n",
        "\n",
        "class Bisiklet: #Bisiklet Fabrikamızın Temel Bisiklet Kadrosu (Frame)\n",
        "    renk = \"Kırmızı\"\n",
        "    vites = 1\n",
        "    suspansiyon = \"Alüminyum\"\n",
        "    def ozellikler(self):\n",
        "        ozellikDetay = \"Bu bisiklet %s renkli, %d viteslidir ve %s maşalıdır\" % (self.renk, self.vites, self.suspansiyon)\n",
        "        return ozellikDetay"
      ],
      "metadata": {
        "id": "7Md-Mc-IW7ei"
      },
      "execution_count": null,
      "outputs": []
    },
    {
      "cell_type": "code",
      "source": [
        "# Neden Sınıf Kullanıyoruz - 2\n",
        "\n",
        "yeniBisiklet = Bisiklet()\n",
        "print(yeniBisiklet.ozellikler())\n",
        "\n",
        "\n",
        "kirmiziYol = Bisiklet()\n",
        "kirmiziYol.vites = 22\n",
        "kirmiziYol.suspansiyon = \"Karbon\"\n",
        "print(kirmiziYol.ozellikler())\n",
        "\n",
        "tourDeFrance = Bisiklet()\n",
        "tourDeFrance.renk = \"Sarı\"\n",
        "tourDeFrance.vites = 22\n",
        "tourDeFrance.suspansiyon = \"Özel Karbon\"\n",
        "print(tourDeFrance.ozellikler())\n"
      ],
      "metadata": {
        "colab": {
          "base_uri": "https://localhost:8080/"
        },
        "id": "gAe1R1clXnw7",
        "outputId": "e886767f-4dc1-4441-ce74-5bd0c0adecc1"
      },
      "execution_count": null,
      "outputs": [
        {
          "output_type": "stream",
          "name": "stdout",
          "text": [
            "Bu bisiklet Kırmızı renkli, 1 viteslidir ve Alüminyum maşalıdır\n",
            "Bu bisiklet Kırmızı renkli, 22 viteslidir ve Karbon maşalıdır\n",
            "Bu bisiklet Sarı renkli, 22 viteslidir ve Özel Karbon maşalıdır\n"
          ]
        }
      ]
    },
    {
      "cell_type": "code",
      "source": [
        "#Yapılacaklar Listesi - Menü & TXT\n",
        "\n",
        "dosya = \"/content/drive/MyDrive/Colab Notebooks/HU-BBY162-2023/yapilacaklar.txt\"\n",
        "\n",
        "\n",
        "#Listeyi Yazdır\n",
        "def listele():\n",
        "  islem = open(dosya, \"r\")\n",
        "  for satir in islem:\n",
        "    print(satir)\n",
        "  islem.close()\n",
        "  menu()\n",
        "\n",
        "#Listeye ekle\n",
        "def ekle():\n",
        "  islem = open(dosya, \"a\")\n",
        "  yap = input(\"İşlemi giriniz: \")\n",
        "  islem.write(yap + \"\\n\")\n",
        "  islem.close()\n",
        "  menu()\n",
        "\n",
        "#Listeyi Temizle\n",
        "def temizle():\n",
        "  islem = open(dosya, \"w\")\n",
        "  islem.close()\n",
        "  menu()\n",
        "\n",
        "def menu():\n",
        "  print(\"Menü: 0)Çıkış - 1)Listele - 2)Ekle - 3)Temizle\")\n",
        "  secim = input(\"Menü öğesi seçiniz\")\n",
        "  if secim == \"0\":\n",
        "    print(\"Program sonlandırıldı..!\")\n",
        "  elif secim == \"1\":\n",
        "    listele()\n",
        "  elif secim == \"2\":\n",
        "    ekle()\n",
        "  elif secim == \"3\":\n",
        "    temizle()\n",
        "  else:\n",
        "    print(\"Lütfen menü öğesi seçiniz!\")\n",
        "    menu()\n",
        "\n",
        "menu()"
      ],
      "metadata": {
        "colab": {
          "base_uri": "https://localhost:8080/"
        },
        "id": "BXtXW4nhhbFt",
        "outputId": "a68a0e40-b1a8-48c5-9138-81293c2e9651"
      },
      "execution_count": null,
      "outputs": [
        {
          "output_type": "stream",
          "name": "stdout",
          "text": [
            "Menü: 0)Çıkış - 1)Listele - 2)Ekle - 3)Temizle\n",
            "Menü öğesi seçiniz0\n",
            "Program sonlandırıldı..!\n"
          ]
        }
      ]
    },
    {
      "cell_type": "code",
      "source": [
        "# Dosya İşlemleri - Okuma\n",
        "# Sol bölümde yer alan \"Dosyalar\" bölümünden \"Drive\" seçeneği aktif olmalı\n",
        "\n",
        "dosyaYolu = \"/content/drive/MyDrive/Colab Notebooks/HU-BBY162-2023/yapilacaklar.txt\"\n",
        "\n",
        "dosyaIslemleri = open(dosyaYolu, \"a\")\n",
        "\n",
        "yapilacak = input(\"Yapılacak işi giriniz: \")\n",
        "dosyaIslemleri.write(yapilacak+\"\\n\")\n",
        "dosyaIslemleri.close()\n",
        "\n",
        "dosyaIslemleri = open(dosyaYolu, \"r\")\n",
        "for satir in dosyaIslemleri.readlines():\n",
        "  print(satir)\n",
        "dosyaIslemleri.close()\n"
      ],
      "metadata": {
        "colab": {
          "base_uri": "https://localhost:8080/"
        },
        "id": "-BCGhmQlbxPe",
        "outputId": "ad63327c-f90d-49e7-bf54-387ac7b44c81"
      },
      "execution_count": null,
      "outputs": [
        {
          "output_type": "stream",
          "name": "stdout",
          "text": [
            "Yapılacak işi giriniz: En yeni iş\n",
            "Python örneklerine bakılacak\n",
            "\n",
            "Yeni örnekler yaz\n",
            "\n",
            "En yeni iş\n",
            "\n"
          ]
        }
      ]
    },
    {
      "cell_type": "code",
      "source": [
        "#Sadece Okuma\n",
        "dosyaYolu = \"/content/drive/MyDrive/Colab Notebooks/HU-BBY162-2023/yapilacaklar.txt\"\n",
        "dosyaIslemleri = open(dosyaYolu, \"r\")\n",
        "for satir in dosyaIslemleri.readlines():\n",
        "  print(satir)\n",
        "dosyaIslemleri.close()"
      ],
      "metadata": {
        "colab": {
          "base_uri": "https://localhost:8080/"
        },
        "id": "tElalWvPdf7C",
        "outputId": "8e8b3000-5329-4bd0-9b3e-72dc71955548"
      },
      "execution_count": null,
      "outputs": [
        {
          "output_type": "stream",
          "name": "stdout",
          "text": [
            "Python örneklerine bakılacak\n",
            "\n",
            "Yeni örnekler yaz\n",
            "\n",
            "En yeni iş\n",
            "\n"
          ]
        }
      ]
    },
    {
      "cell_type": "code",
      "source": [
        "# Dosya İşlemleri - Okuma\n",
        "# Sol bölümde yer alan \"Dosyalar\" bölümünden \"Drive\" seçeneği aktif olmalı\n",
        "\n",
        "dosyaYolu = \"/content/drive/MyDrive/Colab Notebooks/HU-BBY162-2023/veri.txt\"\n",
        "\n",
        "dosyaIslemleri = open(dosyaYolu, \"r\")\n",
        "\n",
        "for satir in dosyaIslemleri.readlines():\n",
        "  print(satir)\n",
        "\n",
        "dosyaIslemleri.close()"
      ],
      "metadata": {
        "id": "rc8VZZHtVqTA"
      },
      "execution_count": null,
      "outputs": []
    },
    {
      "cell_type": "code",
      "source": [
        "#Neden Fonksiyon Kullanıyoruz\n",
        "\n",
        "liste = []\n",
        "\n",
        "#Listeyi Yazdır\n",
        "def listele():\n",
        "  print(liste)\n",
        "  menu()\n",
        "\n",
        "#Listeye ekle\n",
        "def ekle():\n",
        "  eklenecek = input(\"Eklenecek öğe: \")\n",
        "  liste.append(eklenecek)\n",
        "  menu()\n",
        "\n",
        "#Listeden öğe sil\n",
        "def sil():\n",
        "  print(liste)\n",
        "  silinecek = int(input(\"Silmek istediğiniz öğenin numarasını giriniz: \")) - 1\n",
        "  silinecek2 = silinecek + 1\n",
        "  liste[silinecek:silinecek2] = []\n",
        "  menu()\n",
        "\n",
        "def menu():\n",
        "  print(\"Menü: 0)Çıkış - 1)Listele - 2)Ekle - 3)Silme\")\n",
        "  secim = input(\"Menü öğesi seçiniz\")\n",
        "  if secim == \"0\":\n",
        "    print(\"Program sonlandırıldı..!\")\n",
        "  elif secim == \"1\":\n",
        "    listele()\n",
        "  elif secim == \"2\":\n",
        "    ekle()\n",
        "  elif secim == \"3\":\n",
        "    sil()\n",
        "  else:\n",
        "    print(\"Lütfen menü öğesi seçiniz!\")\n",
        "    menu()\n",
        "\n",
        "menu()"
      ],
      "metadata": {
        "id": "XoedoMo-TXbB"
      },
      "execution_count": null,
      "outputs": []
    },
    {
      "cell_type": "code",
      "source": [
        "#Kübünü Alma\n",
        "def kubAl(sayi):\n",
        "  return sayi * sayi * sayi\n",
        "\n",
        "kubAl(5)"
      ],
      "metadata": {
        "colab": {
          "base_uri": "https://localhost:8080/"
        },
        "id": "D1wZu-JESSXk",
        "outputId": "5311a411-2ac5-46f0-dd93-72259e8563a1"
      },
      "execution_count": null,
      "outputs": [
        {
          "output_type": "execute_result",
          "data": {
            "text/plain": [
              "125"
            ]
          },
          "metadata": {},
          "execution_count": 28
        }
      ]
    },
    {
      "cell_type": "code",
      "source": [
        "#Karesini alma\n",
        "def karesiniAl(sayi):\n",
        "  return sayi * sayi\n",
        "\n",
        "karesiniAl(100)"
      ],
      "metadata": {
        "colab": {
          "base_uri": "https://localhost:8080/"
        },
        "id": "AqPHV63ORoX3",
        "outputId": "de0598fe-f709-4f34-c146-b38a694d11bc"
      },
      "execution_count": null,
      "outputs": [
        {
          "output_type": "execute_result",
          "data": {
            "text/plain": [
              "10000"
            ]
          },
          "metadata": {},
          "execution_count": 25
        }
      ]
    },
    {
      "cell_type": "code",
      "source": [
        "#Return\n",
        "\n",
        "def karsilama(ad=\"Örnek\", soyad=\"Kullanıcı\"):\n",
        "  return \"Merhaba, \" + ad + \" \" + soyad + \" :)\"\n",
        "\n",
        "print(karsilama(\"Orçun\", \"Madran\"))\n",
        "print(karsilama())"
      ],
      "metadata": {
        "colab": {
          "base_uri": "https://localhost:8080/"
        },
        "id": "h2nSQLcNO46M",
        "outputId": "4fd603d8-67d2-4a08-e555-79e02ccc49dc"
      },
      "execution_count": null,
      "outputs": [
        {
          "output_type": "stream",
          "name": "stdout",
          "text": [
            "Merhaba, Orçun Madran :)\n",
            "Merhaba, Örnek Kullanıcı :)\n"
          ]
        }
      ]
    },
    {
      "cell_type": "code",
      "source": [
        "#Fonksiyona Parametre gönderme\n",
        "\n",
        "def sayiSay(sayi):\n",
        "  for i in range(sayi):\n",
        "    print(i+1)\n",
        "\n",
        "sayi = int(input(\"Sayılacak toplam sayıyı giriniz: \"))\n",
        "sayiSay(sayi)"
      ],
      "metadata": {
        "id": "lFc2WTFpMKLm"
      },
      "execution_count": null,
      "outputs": []
    },
    {
      "cell_type": "code",
      "source": [
        "#Fonksiyon tanımlama hatası\n",
        "\n",
        "ekranaYazdir()\n",
        "\n",
        "def ekranaYazdir():\n",
        "  print(\"Test..!\")"
      ],
      "metadata": {
        "id": "4EAr6b4mGbN0"
      },
      "execution_count": null,
      "outputs": []
    },
    {
      "cell_type": "code",
      "source": [
        "#Menemen Tarifinde Continue Kullanımı\n",
        "istenmeyen = input(\"Tarifte yer almasını istemediğiniz malzemeyi yazınız: \")\n",
        "malzemeler = [\"Yumurta\", \"Tuz\", \"Karabiber\", \"Soğan\"]\n",
        "\n",
        "print(\"Malzeme listesi\")\n",
        "for index, malzeme in enumerate(malzemeler):\n",
        "  if istenmeyen == malzeme:\n",
        "    continue\n",
        "  print(str(index+1) +\". \"+ malzeme)"
      ],
      "metadata": {
        "id": "QtfXi_joZT0q"
      },
      "execution_count": null,
      "outputs": []
    },
    {
      "cell_type": "code",
      "source": [
        "#Tahmin Oyunu Çoklu Cevap\n",
        "\n",
        "print(\"3 spor dalının aynı anda koşulduğu branşa ne denir?\")\n",
        "cevaplar = [\"triatlon\", \"tri\", \"triathlon\", \"üçlüspor\"]\n",
        "\n",
        "while True:\n",
        "  yanit = input(\"Yanıtınızı giriniz: \").lower()\n",
        "  if yanit in cevaplar:\n",
        "    print(\"Bravo doğru bildiniz!\")\n",
        "    break\n",
        "  else:\n",
        "    print(\"Yanlış cevap, lütfen yeniden deneyiniz!\")"
      ],
      "metadata": {
        "id": "VFQfahkuVQuY"
      },
      "execution_count": null,
      "outputs": []
    },
    {
      "cell_type": "code",
      "source": [
        "#Tahmin Oyunu Tek Cevap\n",
        "\n",
        "print(\"3 spor dalının aynı anda koşulduğu branşa ne denir?\")\n",
        "cevap = \"triatlon\"\n",
        "yanit = input(\"Yanıtınız: \").lower()\n",
        "\n",
        "while yanit != cevap:\n",
        "  yanit = input(\"Yanlış, yeniden yanıtlayınız: \")\n",
        "\n",
        "print(\"Tebrikler, bildiniz..!\")"
      ],
      "metadata": {
        "colab": {
          "base_uri": "https://localhost:8080/"
        },
        "id": "Vwnk1vpiLXhT",
        "outputId": "c3f0b225-7c4d-496c-dee4-64216331e82b"
      },
      "execution_count": null,
      "outputs": [
        {
          "output_type": "stream",
          "name": "stdout",
          "text": [
            "3 spor dalının aynı anda koşulduğu branşa ne denir?\n",
            "Yanıtınız: fsdfsdfsdf\n",
            "Yanlış, yeniden yanıtlayınız: triatlon\n",
            "Tebrikler, bildiniz..!\n"
          ]
        }
      ]
    },
    {
      "cell_type": "code",
      "source": [
        "#For ve If ile DY testi\n",
        "\n",
        "puan = 0\n",
        "sorular = [\"Birinci soru...\",\"İkinci soru...\",\"Üçüncü soru...\",\"Dördüncü soru...\",\"Beşinci soru...\"]\n",
        "cevaplar = [\"d\",\"d\",\"y\",\"y\",\"d\"]\n",
        "\n",
        "print(\"::: DY testine hoşgeldiniz :::\")\n",
        "print(\"------------------------------\")\n",
        "\n",
        "for i, soru in enumerate(sorular):\n",
        "  print(str(i+1) +\". \" + soru)\n",
        "  cevap = input(\"Cevabınızı giriniz(d/y): \")\n",
        "  if cevap == cevaplar[i]:\n",
        "    puan +=1\n",
        "    print(\"Doğru bildiniz\")\n",
        "  else:\n",
        "    print(\"Yanıtınız yanlış\")\n",
        "\n",
        "print(\"Testi tamamladınız!\")\n",
        "print(\"Puanınız: \" + str(puan))"
      ],
      "metadata": {
        "id": "ASw9Uf0cA2v_"
      },
      "execution_count": null,
      "outputs": []
    },
    {
      "cell_type": "code",
      "source": [
        "metin = \"Merhaba benim adım Orçun!\"\n",
        "\n",
        "for karakter in metin:\n",
        "  print(karakter)"
      ],
      "metadata": {
        "id": "OsLXkghk_aRJ"
      },
      "execution_count": null,
      "outputs": []
    },
    {
      "cell_type": "code",
      "source": [
        "for sayi in range(3):\n",
        "  print(sayi+1)\n",
        "  test = input(\"Giriş yapınız: \")\n",
        "  print(\"*****\")\n",
        "print(\"Program tamamlandı!\")"
      ],
      "metadata": {
        "id": "dDVWDbEV9mz6"
      },
      "execution_count": null,
      "outputs": []
    },
    {
      "cell_type": "code",
      "source": [
        "#IF, Elif ve Else çalışması\n",
        "menu = [\"1.Listele\",\"2.Kaydet\",\"3.Sil\",\"4.Güncelle\",\"5.Çıkış\"]\n",
        "print(menu)\n",
        "secim = int(input(\"Menüden seçim yapınız(1-5)\"))\n",
        "if secim == 1:\n",
        "  print(\"Listeleme işlemi gerçekleşiyor...\")\n",
        "  #Buraya listeleme kodları ya da fonksiyonu gelecek\n",
        "elif secim == 2:\n",
        "  print(\"Kaydetme işlemi gerçekleşiyor...\")\n",
        "  #Buraya kaydet kodları ya da fonksiyonu gelecek\n",
        "elif secim == 3:\n",
        "  print(\"Silme işlemi gerçekleşiyor...\")\n",
        "  #Buraya silme kodları ya da fonksiyonu gelecek\n",
        "elif secim == 4:\n",
        "  print(\"Güncelleme işlemi gerçekleşiyor...\")\n",
        "  #Buraya güncelleme kodları ya da fonksiyonu gelecek\n",
        "elif secim == 5:\n",
        "  print(\"Çıkış işlemi gerçekleşiyor...\")\n",
        "  #Buraya çıkış kodları ya da fonksiyonu gelecek\n",
        "else:\n",
        "  print(\"1 ile 5 arası bir rakam giriniz!\")"
      ],
      "metadata": {
        "id": "MKry71QgaF-o"
      },
      "execution_count": null,
      "outputs": []
    },
    {
      "cell_type": "code",
      "source": [
        "#If ile DY testi\n",
        "puan = 0\n",
        "sorular = [\"Birinci soru...\",\"İkinci soru...\",\"Üçüncü soru...\",\"Dördüncü soru...\",\"Beşinci soru...\"]\n",
        "cevaplar = [\"d\",\"d\",\"y\",\"y\",\"d\"]\n",
        "print(\"::: DY testine hoşgeldiniz :::\")\n",
        "print(\"------------------------------\")\n",
        "print(sorular[0])\n",
        "cevap = input(\"Cevabınızı giriniz(d/y): \")\n",
        "if cevap == cevaplar[0]:\n",
        "  puan +=1\n",
        "  print(\"Doğru bildiniz\")\n",
        "else:\n",
        "  print(\"Yanıtınız yanlış\")\n",
        "print(sorular[1])\n",
        "cevap = input(\"Cevabınızı giriniz(d/y): \")\n",
        "if cevap == cevaplar[1]:\n",
        "  puan +=1\n",
        "  print(\"Doğru bildiniz\")\n",
        "else:\n",
        "  print(\"Yanıtınız yanlış\")\n",
        "print(sorular[2])\n",
        "cevap = input(\"Cevabınızı giriniz(d/y): \")\n",
        "if cevap == cevaplar[2]:\n",
        "  puan +=1\n",
        "  print(\"Doğru bildiniz\")\n",
        "else:\n",
        "  print(\"Yanıtınız yanlış\")\n",
        "print(sorular[3])\n",
        "cevap = input(\"Cevabınızı giriniz(d/y): \")\n",
        "if cevap == cevaplar[3]:\n",
        "  puan +=1\n",
        "  print(\"Doğru bildiniz\")\n",
        "else:\n",
        "  print(\"Yanıtınız yanlış\")\n",
        "print(sorular[4])\n",
        "cevap = input(\"Cevabınızı giriniz(d/y): \")\n",
        "if cevap == cevaplar[4]:\n",
        "  puan +=1\n",
        "  print(\"Doğru bildiniz\")\n",
        "else:\n",
        "  print(\"Yanıtınız yanlış\")\n",
        "print(\"Testi tamamladınız!\")\n",
        "print(\"Puanınız: \" + str(puan))"
      ],
      "metadata": {
        "colab": {
          "base_uri": "https://localhost:8080/"
        },
        "id": "WqgB6LKhW62t",
        "outputId": "3ba112dc-afbb-486a-f27a-5a625b8bbcbc"
      },
      "execution_count": null,
      "outputs": [
        {
          "output_type": "stream",
          "name": "stdout",
          "text": [
            "::: DY testine hoşgeldiniz :::\n",
            "------------------------------\n",
            "Birinci soru...\n",
            "Cevabınızı giriniz(d/y): bfgkhklç\n",
            "Yanıtınız yanlış\n",
            "İkinci soru...\n",
            "Cevabınızı giriniz(d/y): hgfkjlş\n",
            "Yanıtınız yanlış\n",
            "Üçüncü soru...\n",
            "Cevabınızı giriniz(d/y): hgfhkılşi\n",
            "Yanıtınız yanlış\n",
            "Dördüncü soru...\n",
            "Cevabınızı giriniz(d/y): gfhhjloşş\n",
            "Yanıtınız yanlış\n",
            "Beşinci soru...\n",
            "Cevabınızı giriniz(d/y): bghvhkböç\n",
            "Yanıtınız yanlış\n",
            "Testi tamamladınız!\n",
            "Puanınız: 0\n"
          ]
        }
      ]
    },
    {
      "cell_type": "code",
      "source": [
        "#If ile Kullanıcı Adı ve Şifre kontrolü\n",
        "kullaniciAdi = \"orcunmadran\"\n",
        "eposta = \"orcun@madran.net\"\n",
        "sifre = \"123456\"\n",
        "kulAdi = input(\"Kullanıcı adını giriniz: \")\n",
        "sfr = input(\"Şifre giriniz: \")\n",
        "if (kullaniciAdi == kulAdi or eposta == kulAdi) and sifre == sfr:\n",
        "  print(\"Sisteme girişiniz onaylandı!\")"
      ],
      "metadata": {
        "colab": {
          "base_uri": "https://localhost:8080/"
        },
        "id": "2w16dXQ1QXhN",
        "outputId": "72b179d8-bd67-4c70-cdd1-4673605c2b5f"
      },
      "execution_count": null,
      "outputs": [
        {
          "output_type": "stream",
          "name": "stdout",
          "text": [
            "Kullanıcı adını giriniz: orcunmadran\n",
            "Şifre giriniz: 123456\n",
            "Sisteme girişiniz onaylandı!\n"
          ]
        }
      ]
    },
    {
      "cell_type": "code",
      "source": [
        "#İstenmeyen sözcük\n",
        "istenmeyen = \"test\"\n",
        "girilen = input(\"Test edilecek kelimeyi girin: \")\n",
        "print(istenmeyen != girilen)"
      ],
      "metadata": {
        "id": "-sgRfPRUNboL"
      },
      "execution_count": null,
      "outputs": []
    },
    {
      "cell_type": "code",
      "source": [
        "#Kullanıcı Adı ve Şifre kontrol\n",
        "kullaniciAdi = \"orcunmadran\"\n",
        "eposta = \"orcun@madran.net\"\n",
        "sifre = \"123456\"\n",
        "kulAdi = input(\"Kullanıcı adını giriniz: \")\n",
        "sfr = input(\"Şifre giriniz: \")\n",
        "print((kullaniciAdi == kulAdi or eposta == kulAdi) and sifre == sfr)"
      ],
      "metadata": {
        "colab": {
          "base_uri": "https://localhost:8080/"
        },
        "id": "59C0Do9hLbMS",
        "outputId": "6524d0d0-91a3-466a-e829-3f7a823315a7"
      },
      "execution_count": null,
      "outputs": [
        {
          "output_type": "stream",
          "name": "stdout",
          "text": [
            "Kullanıcı adını giriniz: gfıjh\n",
            "Şifre giriniz: kjgykj\n",
            "False\n"
          ]
        }
      ]
    },
    {
      "cell_type": "code",
      "source": [
        "#Mantıksal ifadeler ile kelime tahmini\n",
        "print(\"Bizi bir noktadan diğer bir noktaya fiziksel olarak taşır\")\n",
        "cevap = input(\"Yukarıda yazan önermeye uygun araç ne olabilir? \")\n",
        "print(cevap == \"uçak\" or cevap == \"araba\" or cevap == \"bisiklet\" or cevap == \"at\" or cevap == \"eşşek\")"
      ],
      "metadata": {
        "colab": {
          "base_uri": "https://localhost:8080/"
        },
        "id": "-zJJ11AbKLEm",
        "outputId": "7faa5a4c-a436-48fa-971f-d6f4a61fcdb8"
      },
      "execution_count": null,
      "outputs": [
        {
          "output_type": "stream",
          "name": "stdout",
          "text": [
            "Bizi bir noktadan diğer bir noktaya fiziksel olarak taşır\n",
            "Yukarıda yazan önermeye uygun araç ne olabilir? araba\n",
            "True\n"
          ]
        }
      ]
    },
    {
      "cell_type": "code",
      "source": [
        "#Basit bir sözlüğün oluşturulması ve içeriğinin görüntülenmesi\n",
        "sozluk = {\"Açık Erişim\":\"Kamu kaynakları ile oluşturulan bilimsel çalışmalara erişimin açık olması\", \"Açık Veri\":\"Kamu kuruluşlarının hizmet üretirken ortaya çıkan verilere açık erişim sağlanması\"}\n",
        "print(sozluk)\n",
        "print(sozluk.keys())"
      ],
      "metadata": {
        "colab": {
          "base_uri": "https://localhost:8080/"
        },
        "id": "LksN4cy4HZ-W",
        "outputId": "7b41ceb6-9912-4654-9e67-3adf6412bebd"
      },
      "execution_count": null,
      "outputs": [
        {
          "output_type": "stream",
          "name": "stdout",
          "text": [
            "{'Açık Erişim': 'Kamu kaynakları ile oluşturulan bilimsel çalışmalara erişimin açık olması', 'Açık Veri': 'Kamu kuruluşlarının hizmet üretirken ortaya çıkan verilere açık erişim sağlanması'}\n",
            "dict_keys(['Açık Erişim', 'Açık Veri'])\n"
          ]
        }
      ]
    },
    {
      "cell_type": "code",
      "source": [
        "#Problem: Basit bir yapılacak işler listesi oluştur.\n",
        "#Listenin oluşturulması\n",
        "yapilacaklar = []"
      ],
      "metadata": {
        "id": "u5ZXKYup7rAG"
      },
      "execution_count": null,
      "outputs": []
    },
    {
      "cell_type": "code",
      "source": [
        "#Listeye Veri Ekleme\n",
        "isler = input(\"Yapılacak işi giriniz: \")\n",
        "yapilacaklar.append(isler)\n"
      ],
      "metadata": {
        "id": "YcDN-xQJ9ARW"
      },
      "execution_count": null,
      "outputs": []
    },
    {
      "cell_type": "code",
      "source": [
        "#Listenin görüntülenmesi\n",
        "print(yapilacaklar)"
      ],
      "metadata": {
        "id": "SoCMkn8Z9M_c"
      },
      "execution_count": null,
      "outputs": []
    },
    {
      "cell_type": "code",
      "source": [
        "#Liste çalışmaları\n",
        "\n",
        "haftaninGunleri = [\"Pazartesi\", \"Salı\", \"Çarşamba\", \"Perşembe\", \"Cuma\"]\n",
        "print(haftaninGunleri)\n",
        "print(haftaninGunleri[2])\n",
        "print(haftaninGunleri[1:4])\n",
        "print(haftaninGunleri[-1])\n",
        "print(haftaninGunleri[0])"
      ],
      "metadata": {
        "colab": {
          "base_uri": "https://localhost:8080/"
        },
        "id": "iB36PXmG4kpH",
        "outputId": "30141963-c9ef-4b58-910d-a0f452d69107"
      },
      "execution_count": null,
      "outputs": [
        {
          "output_type": "stream",
          "name": "stdout",
          "text": [
            "['Pazartesi', 'Salı', 'Çarşamba', 'Perşembe', 'Cuma']\n",
            "Çarşamba\n",
            "['Salı', 'Çarşamba', 'Perşembe']\n",
            "Cuma\n",
            "Pazartesi\n"
          ]
        }
      ]
    },
    {
      "cell_type": "code",
      "source": [
        "#Problem = Bir haber metninde kullanıcının girdiği bir kelimenin yer alıp almadığını ekrana yazdırın!\n",
        "\n",
        "haber = 'Beytepe Yerleşkesinde inşaa edilen, tamamen atık malzemeyle yapılması ve taşınabilir olmasıyla dikkat çeken “Destek Hizmetleri Binası”nın açılış töreni 16 Mart günü gerçekleştirildi. Törene Hacettepe Üniversitesi yönetimi, akademik ve idari personeli ile Taleworlds şirketinin CEO’su Armağan Yavuz katıldı. Geliştirdiği yeni bir teknikle bu yapıyı tasarlayan üniversitemiz İnşaat Mühendisliği Ana Bilim Dalı Öğretim Üyesi Prof. Dr. Mustafa Şahmaran törende bir konuşma yaparak proje sürecini şöyle anlattı. “2019 yılında Türkiye-İngiltere ikili iş birliği kapsamında bir çalışma sunmuştuk. O projenin adı, “Düşük Maliyetli Konutlandırma İçin Lego Tarzı Yapı İnşaası”ydı. Sonraki yıl İngiltere ile iş birliği yapan farklı ülkeler arasındaki projelerin her ülke adına ödül verilmesine karar verilmiş. Biz de Türkiye kapsamında bu ödüle başvurduk. Ülkemizdeki 50 başvurudan ilk 4’e kaldık. Ödül töreninin sonuçları açıklandı ve ödülü biz aldık. Bu ödül kapsamında, Rektörümüzün de desteğiyle bu alanda çalışmalarımıza başladık.”'\n",
        "print(haber)\n",
        "arananKelime = input(\"Aranacak kelimeyi giriniz: \")\n",
        "sonuc = arananKelime.lower() in haber.lower()\n",
        "print(str(len(haber)) + \" karakterlik haber içinde arama yapıldı!\")\n",
        "print(\"Adağınız kelime var mı? \" + str(sonuc)) "
      ],
      "metadata": {
        "colab": {
          "base_uri": "https://localhost:8080/"
        },
        "id": "sXOPJS70UADR",
        "outputId": "d61aeb87-0bde-435c-ae5e-2a3436f1da1e"
      },
      "execution_count": null,
      "outputs": [
        {
          "output_type": "stream",
          "name": "stdout",
          "text": [
            "Beytepe Yerleşkesinde inşaa edilen, tamamen atık malzemeyle yapılması ve taşınabilir olmasıyla dikkat çeken “Destek Hizmetleri Binası”nın açılış töreni 16 Mart günü gerçekleştirildi. Törene Hacettepe Üniversitesi yönetimi, akademik ve idari personeli ile Taleworlds şirketinin CEO’su Armağan Yavuz katıldı. Geliştirdiği yeni bir teknikle bu yapıyı tasarlayan üniversitemiz İnşaat Mühendisliği Ana Bilim Dalı Öğretim Üyesi Prof. Dr. Mustafa Şahmaran törende bir konuşma yaparak proje sürecini şöyle anlattı. “2019 yılında Türkiye-İngiltere ikili iş birliği kapsamında bir çalışma sunmuştuk. O projenin adı, “Düşük Maliyetli Konutlandırma İçin Lego Tarzı Yapı İnşaası”ydı. Sonraki yıl İngiltere ile iş birliği yapan farklı ülkeler arasındaki projelerin her ülke adına ödül verilmesine karar verilmiş. Biz de Türkiye kapsamında bu ödüle başvurduk. Ülkemizdeki 50 başvurudan ilk 4’e kaldık. Ödül töreninin sonuçları açıklandı ve ödülü biz aldık. Bu ödül kapsamında, Rektörümüzün de desteğiyle bu alanda çalışmalarımıza başladık.”\n",
            "Aranacak kelimeyi giriniz: malzeme\n",
            "1025 karakterlik haber içinde arama yapıldı!\n",
            "Adağınız kelime var mı? True\n"
          ]
        }
      ]
    },
    {
      "cell_type": "code",
      "source": [
        "# Problem: Paragraf içinde yer alan metnin karakter sayısı 250'den büyükse ekrana True, küçükse False yazıdır.\n",
        "paragraf = \"Next, progons to download the correct version of Python.\"\n",
        "\n",
        "print(len(paragraf) > 250)\n",
        "\n",
        "'''\n",
        "karakterSayisi = len(paragraf)\n",
        "print(karakterSayisi)\n",
        "kontrol = karakterSayisi > 250\n",
        "print(kontrol)\n",
        "'''"
      ],
      "metadata": {
        "id": "YbrdHItrQfup"
      },
      "execution_count": null,
      "outputs": []
    },
    {
      "cell_type": "markdown",
      "source": [
        "Yaş ortalaması 25 olan bir gruba yeni bir kişi katılacaktır. Bu kişinin yaş girmesi istenecek ve girilen yaşa göre eğer yaşı ortalamanın altında ise kabul edilecek (True), yaşı ortalamanın üzerinde ise kabul edilmeyecek ve cevap olarak ekrana (False) gelecek"
      ],
      "metadata": {
        "id": "hjvxk124Qerg"
      }
    },
    {
      "cell_type": "code",
      "source": [
        "karsilama = input(\"Adınızı ve soyadınızı giriniz: \")\n",
        "print(\"Merhaba, \" + karsilama)"
      ],
      "metadata": {
        "colab": {
          "base_uri": "https://localhost:8080/"
        },
        "id": "fgrV3Dn7PubC",
        "outputId": "992e4660-a395-4fa1-a654-956f8379631d"
      },
      "execution_count": null,
      "outputs": [
        {
          "output_type": "stream",
          "name": "stdout",
          "text": [
            "Adınızı ve soyadınızı giriniz: Orçun\n",
            "Merhaba, Orçun\n"
          ]
        }
      ]
    },
    {
      "cell_type": "code",
      "source": [
        "print(\"Yaş hesaplama programı\")\n",
        "buYil = 2023\n",
        "dogumTarihi = input(\"Doğum tarihinizi giriniz: \")\n",
        "yas = buYil - int(dogumTarihi)\n",
        "print(\"Yaşınız: \" + str(yas))"
      ],
      "metadata": {
        "colab": {
          "base_uri": "https://localhost:8080/"
        },
        "id": "YzwAAQxzNKSj",
        "outputId": "f126b1d8-2183-4a0d-9bca-878a01288df4"
      },
      "execution_count": null,
      "outputs": [
        {
          "output_type": "stream",
          "name": "stdout",
          "text": [
            "Yaş hesaplama programı\n",
            "Doğum tarihinizi giriniz: 1976\n",
            "Yaşınız: 47\n"
          ]
        }
      ]
    },
    {
      "cell_type": "code",
      "source": [
        "# 13 Mart 2023 Test Programı\n",
        "print(\"*** Test Programı Başladı ***\")\n",
        "print(\"Soru 1: Dünya düz müdür?\")\n",
        "soru1 = \"hayır\"\n",
        "cevap1 = input(\"Cevap: \")\n",
        "sonuc = soru1 == cevap1\n",
        "print(\"Cevabınız \" + str(sonuc))"
      ],
      "metadata": {
        "colab": {
          "base_uri": "https://localhost:8080/"
        },
        "id": "ji8VqiJBKNGp",
        "outputId": "1044f803-1dcd-4a03-8ebf-1f6ee24cce7b"
      },
      "execution_count": null,
      "outputs": [
        {
          "output_type": "stream",
          "name": "stdout",
          "text": [
            "*** Test Programı Başladı ***\n",
            "Soru 1: Dünya düz müdür?\n",
            "Cevap: hayır\n",
            "Cevabınız True\n"
          ]
        }
      ]
    }
  ]
}