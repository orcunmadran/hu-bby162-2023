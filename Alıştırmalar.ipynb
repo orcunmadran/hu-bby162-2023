{
  "nbformat": 4,
  "nbformat_minor": 0,
  "metadata": {
    "colab": {
      "provenance": [],
      "authorship_tag": "ABX9TyPZYvE+OH7LX7HHq5RVRP5t",
      "include_colab_link": true
    },
    "kernelspec": {
      "name": "python3",
      "display_name": "Python 3"
    },
    "language_info": {
      "name": "python"
    }
  },
  "cells": [
    {
      "cell_type": "markdown",
      "metadata": {
        "id": "view-in-github",
        "colab_type": "text"
      },
      "source": [
        "<a href=\"https://colab.research.google.com/github/orcunmadran/hu-bby162-2023/blob/main/Al%C4%B1%C5%9Ft%C4%B1rmalar.ipynb\" target=\"_parent\"><img src=\"https://colab.research.google.com/assets/colab-badge.svg\" alt=\"Open In Colab\"/></a>"
      ]
    },
    {
      "cell_type": "code",
      "source": [
        "#Basit bir sözlüğün oluşturulması ve içeriğinin görüntülenmesi\n",
        "sozluk = {\"Açık Erişim\":\"Kamu kaynakları ile oluşturulan bilimsel çalışmalara erişimin açık olması\", \"Açık Veri\":\"Kamu kuruluşlarının hizmet üretirken ortaya çıkan verilere açık erişim sağlanması\"}\n",
        "print(sozluk)\n",
        "print(sozluk.keys())"
      ],
      "metadata": {
        "colab": {
          "base_uri": "https://localhost:8080/"
        },
        "id": "LksN4cy4HZ-W",
        "outputId": "7b41ceb6-9912-4654-9e67-3adf6412bebd"
      },
      "execution_count": null,
      "outputs": [
        {
          "output_type": "stream",
          "name": "stdout",
          "text": [
            "{'Açık Erişim': 'Kamu kaynakları ile oluşturulan bilimsel çalışmalara erişimin açık olması', 'Açık Veri': 'Kamu kuruluşlarının hizmet üretirken ortaya çıkan verilere açık erişim sağlanması'}\n",
            "dict_keys(['Açık Erişim', 'Açık Veri'])\n"
          ]
        }
      ]
    },
    {
      "cell_type": "code",
      "source": [
        "#Problem: Basit bir yapılacak işler listesi oluştur.\n",
        "#Listenin oluşturulması\n",
        "yapilacaklar = []"
      ],
      "metadata": {
        "id": "u5ZXKYup7rAG"
      },
      "execution_count": null,
      "outputs": []
    },
    {
      "cell_type": "code",
      "source": [
        "#Listeye Veri Ekleme\n",
        "isler = input(\"Yapılacak işi giriniz: \")\n",
        "yapilacaklar.append(isler)\n"
      ],
      "metadata": {
        "id": "YcDN-xQJ9ARW"
      },
      "execution_count": null,
      "outputs": []
    },
    {
      "cell_type": "code",
      "source": [
        "#Listenin görüntülenmesi\n",
        "print(yapilacaklar)"
      ],
      "metadata": {
        "id": "SoCMkn8Z9M_c"
      },
      "execution_count": null,
      "outputs": []
    },
    {
      "cell_type": "code",
      "source": [
        "#Liste çalışmaları\n",
        "\n",
        "haftaninGunleri = [\"Pazartesi\", \"Salı\", \"Çarşamba\", \"Perşembe\", \"Cuma\"]\n",
        "print(haftaninGunleri)\n",
        "print(haftaninGunleri[2])\n",
        "print(haftaninGunleri[1:4])\n",
        "print(haftaninGunleri[-1])\n",
        "print(haftaninGunleri[0])"
      ],
      "metadata": {
        "colab": {
          "base_uri": "https://localhost:8080/"
        },
        "id": "iB36PXmG4kpH",
        "outputId": "30141963-c9ef-4b58-910d-a0f452d69107"
      },
      "execution_count": null,
      "outputs": [
        {
          "output_type": "stream",
          "name": "stdout",
          "text": [
            "['Pazartesi', 'Salı', 'Çarşamba', 'Perşembe', 'Cuma']\n",
            "Çarşamba\n",
            "['Salı', 'Çarşamba', 'Perşembe']\n",
            "Cuma\n",
            "Pazartesi\n"
          ]
        }
      ]
    },
    {
      "cell_type": "code",
      "source": [
        "#Problem = Bir haber metninde kullanıcının girdiği bir kelimenin yer alıp almadığını ekrana yazdırın!\n",
        "\n",
        "haber = 'Beytepe Yerleşkesinde inşaa edilen, tamamen atık malzemeyle yapılması ve taşınabilir olmasıyla dikkat çeken “Destek Hizmetleri Binası”nın açılış töreni 16 Mart günü gerçekleştirildi. Törene Hacettepe Üniversitesi yönetimi, akademik ve idari personeli ile Taleworlds şirketinin CEO’su Armağan Yavuz katıldı. Geliştirdiği yeni bir teknikle bu yapıyı tasarlayan üniversitemiz İnşaat Mühendisliği Ana Bilim Dalı Öğretim Üyesi Prof. Dr. Mustafa Şahmaran törende bir konuşma yaparak proje sürecini şöyle anlattı. “2019 yılında Türkiye-İngiltere ikili iş birliği kapsamında bir çalışma sunmuştuk. O projenin adı, “Düşük Maliyetli Konutlandırma İçin Lego Tarzı Yapı İnşaası”ydı. Sonraki yıl İngiltere ile iş birliği yapan farklı ülkeler arasındaki projelerin her ülke adına ödül verilmesine karar verilmiş. Biz de Türkiye kapsamında bu ödüle başvurduk. Ülkemizdeki 50 başvurudan ilk 4’e kaldık. Ödül töreninin sonuçları açıklandı ve ödülü biz aldık. Bu ödül kapsamında, Rektörümüzün de desteğiyle bu alanda çalışmalarımıza başladık.”'\n",
        "print(haber)\n",
        "arananKelime = input(\"Aranacak kelimeyi giriniz: \")\n",
        "sonuc = arananKelime.lower() in haber.lower()\n",
        "print(str(len(haber)) + \" karakterlik haber içinde arama yapıldı!\")\n",
        "print(\"Adağınız kelime var mı? \" + str(sonuc)) "
      ],
      "metadata": {
        "colab": {
          "base_uri": "https://localhost:8080/"
        },
        "id": "sXOPJS70UADR",
        "outputId": "d61aeb87-0bde-435c-ae5e-2a3436f1da1e"
      },
      "execution_count": null,
      "outputs": [
        {
          "output_type": "stream",
          "name": "stdout",
          "text": [
            "Beytepe Yerleşkesinde inşaa edilen, tamamen atık malzemeyle yapılması ve taşınabilir olmasıyla dikkat çeken “Destek Hizmetleri Binası”nın açılış töreni 16 Mart günü gerçekleştirildi. Törene Hacettepe Üniversitesi yönetimi, akademik ve idari personeli ile Taleworlds şirketinin CEO’su Armağan Yavuz katıldı. Geliştirdiği yeni bir teknikle bu yapıyı tasarlayan üniversitemiz İnşaat Mühendisliği Ana Bilim Dalı Öğretim Üyesi Prof. Dr. Mustafa Şahmaran törende bir konuşma yaparak proje sürecini şöyle anlattı. “2019 yılında Türkiye-İngiltere ikili iş birliği kapsamında bir çalışma sunmuştuk. O projenin adı, “Düşük Maliyetli Konutlandırma İçin Lego Tarzı Yapı İnşaası”ydı. Sonraki yıl İngiltere ile iş birliği yapan farklı ülkeler arasındaki projelerin her ülke adına ödül verilmesine karar verilmiş. Biz de Türkiye kapsamında bu ödüle başvurduk. Ülkemizdeki 50 başvurudan ilk 4’e kaldık. Ödül töreninin sonuçları açıklandı ve ödülü biz aldık. Bu ödül kapsamında, Rektörümüzün de desteğiyle bu alanda çalışmalarımıza başladık.”\n",
            "Aranacak kelimeyi giriniz: malzeme\n",
            "1025 karakterlik haber içinde arama yapıldı!\n",
            "Adağınız kelime var mı? True\n"
          ]
        }
      ]
    },
    {
      "cell_type": "code",
      "source": [
        "# Problem: Paragraf içinde yer alan metnin karakter sayısı 250'den büyükse ekrana True, küçükse False yazıdır.\n",
        "paragraf = \"Next, progons to download the correct version of Python.\"\n",
        "\n",
        "print(len(paragraf) > 250)\n",
        "\n",
        "'''\n",
        "karakterSayisi = len(paragraf)\n",
        "print(karakterSayisi)\n",
        "kontrol = karakterSayisi > 250\n",
        "print(kontrol)\n",
        "'''"
      ],
      "metadata": {
        "id": "YbrdHItrQfup"
      },
      "execution_count": null,
      "outputs": []
    },
    {
      "cell_type": "markdown",
      "source": [
        "Yaş ortalaması 25 olan bir gruba yeni bir kişi katılacaktır. Bu kişinin yaş girmesi istenecek ve girilen yaşa göre eğer yaşı ortalamanın altında ise kabul edilecek (True), yaşı ortalamanın üzerinde ise kabul edilmeyecek ve cevap olarak ekrana (False) gelecek"
      ],
      "metadata": {
        "id": "hjvxk124Qerg"
      }
    },
    {
      "cell_type": "code",
      "source": [
        "karsilama = input(\"Adınızı ve soyadınızı giriniz: \")\n",
        "print(\"Merhaba, \" + karsilama)"
      ],
      "metadata": {
        "colab": {
          "base_uri": "https://localhost:8080/"
        },
        "id": "fgrV3Dn7PubC",
        "outputId": "992e4660-a395-4fa1-a654-956f8379631d"
      },
      "execution_count": null,
      "outputs": [
        {
          "output_type": "stream",
          "name": "stdout",
          "text": [
            "Adınızı ve soyadınızı giriniz: Orçun\n",
            "Merhaba, Orçun\n"
          ]
        }
      ]
    },
    {
      "cell_type": "code",
      "source": [
        "print(\"Yaş hesaplama programı\")\n",
        "buYil = 2023\n",
        "dogumTarihi = input(\"Doğum tarihinizi giriniz: \")\n",
        "yas = buYil - int(dogumTarihi)\n",
        "print(\"Yaşınız: \" + str(yas))"
      ],
      "metadata": {
        "colab": {
          "base_uri": "https://localhost:8080/"
        },
        "id": "YzwAAQxzNKSj",
        "outputId": "f126b1d8-2183-4a0d-9bca-878a01288df4"
      },
      "execution_count": null,
      "outputs": [
        {
          "output_type": "stream",
          "name": "stdout",
          "text": [
            "Yaş hesaplama programı\n",
            "Doğum tarihinizi giriniz: 1976\n",
            "Yaşınız: 47\n"
          ]
        }
      ]
    },
    {
      "cell_type": "code",
      "source": [
        "# 13 Mart 2023 Test Programı\n",
        "print(\"*** Test Programı Başladı ***\")\n",
        "print(\"Soru 1: Dünya düz müdür?\")\n",
        "soru1 = \"hayır\"\n",
        "cevap1 = input(\"Cevap: \")\n",
        "sonuc = soru1 == cevap1\n",
        "print(\"Cevabınız \" + str(sonuc))"
      ],
      "metadata": {
        "colab": {
          "base_uri": "https://localhost:8080/"
        },
        "id": "ji8VqiJBKNGp",
        "outputId": "1044f803-1dcd-4a03-8ebf-1f6ee24cce7b"
      },
      "execution_count": null,
      "outputs": [
        {
          "output_type": "stream",
          "name": "stdout",
          "text": [
            "*** Test Programı Başladı ***\n",
            "Soru 1: Dünya düz müdür?\n",
            "Cevap: hayır\n",
            "Cevabınız True\n"
          ]
        }
      ]
    }
  ]
}