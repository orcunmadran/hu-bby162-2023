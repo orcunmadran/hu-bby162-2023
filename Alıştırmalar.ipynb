{
  "nbformat": 4,
  "nbformat_minor": 0,
  "metadata": {
    "colab": {
      "provenance": [],
      "authorship_tag": "ABX9TyOcO3UU6i7iUDZlF2DbtcKk",
      "include_colab_link": true
    },
    "kernelspec": {
      "name": "python3",
      "display_name": "Python 3"
    },
    "language_info": {
      "name": "python"
    }
  },
  "cells": [
    {
      "cell_type": "markdown",
      "metadata": {
        "id": "view-in-github",
        "colab_type": "text"
      },
      "source": [
        "<a href=\"https://colab.research.google.com/github/orcunmadran/hu-bby162-2023/blob/main/Al%C4%B1%C5%9Ft%C4%B1rmalar.ipynb\" target=\"_parent\"><img src=\"https://colab.research.google.com/assets/colab-badge.svg\" alt=\"Open In Colab\"/></a>"
      ]
    },
    {
      "cell_type": "markdown",
      "source": [
        "Yaş ortalaması 25 olan bir gruba yeni bir kişi katılacaktır. Bu kişinin yaş girmesi istenecek ve girilen yaşa göre eğer yaşı ortalamanın altında ise kabul edilecek (True), yaşı ortalamanın üzerinde ise kabul edilmeyecek ve cevap olarak ekrana (False) gelecek"
      ],
      "metadata": {
        "id": "hjvxk124Qerg"
      }
    },
    {
      "cell_type": "code",
      "source": [
        "# Problem: Paragraf içinde yer alan metnin karakter sayısı 250'den büyükse ekrana True, küçükse False yazıdır.\n",
        "paragraf = \"Next, progons to download the correct version of Python.\"\n",
        "\n",
        "print(len(paragraf) > 250)\n",
        "\n",
        "'''\n",
        "karakterSayisi = len(paragraf)\n",
        "print(karakterSayisi)\n",
        "kontrol = karakterSayisi > 250\n",
        "print(kontrol)\n",
        "'''"
      ],
      "metadata": {
        "id": "YbrdHItrQfup"
      },
      "execution_count": null,
      "outputs": []
    },
    {
      "cell_type": "code",
      "source": [
        "karsilama = input(\"Adınızı ve soyadınızı giriniz: \")\n",
        "print(\"Merhaba, \" + karsilama)"
      ],
      "metadata": {
        "colab": {
          "base_uri": "https://localhost:8080/"
        },
        "id": "fgrV3Dn7PubC",
        "outputId": "992e4660-a395-4fa1-a654-956f8379631d"
      },
      "execution_count": 5,
      "outputs": [
        {
          "output_type": "stream",
          "name": "stdout",
          "text": [
            "Adınızı ve soyadınızı giriniz: Orçun\n",
            "Merhaba, Orçun\n"
          ]
        }
      ]
    },
    {
      "cell_type": "code",
      "source": [
        "print(\"Yaş hesaplama programı\")\n",
        "buYil = 2023\n",
        "dogumTarihi = input(\"Doğum tarihinizi giriniz: \")\n",
        "yas = buYil - int(dogumTarihi)\n",
        "print(\"Yaşınız: \" + str(yas))"
      ],
      "metadata": {
        "colab": {
          "base_uri": "https://localhost:8080/"
        },
        "id": "YzwAAQxzNKSj",
        "outputId": "f126b1d8-2183-4a0d-9bca-878a01288df4"
      },
      "execution_count": null,
      "outputs": [
        {
          "output_type": "stream",
          "name": "stdout",
          "text": [
            "Yaş hesaplama programı\n",
            "Doğum tarihinizi giriniz: 1976\n",
            "Yaşınız: 47\n"
          ]
        }
      ]
    },
    {
      "cell_type": "code",
      "source": [
        "# 13 Mart 2023 Test Programı\n",
        "print(\"*** Test Programı Başladı ***\")\n",
        "print(\"Soru 1: Dünya düz müdür?\")\n",
        "soru1 = \"hayır\"\n",
        "cevap1 = input(\"Cevap: \")\n",
        "sonuc = soru1 == cevap1\n",
        "print(\"Cevabınız \" + str(sonuc))"
      ],
      "metadata": {
        "colab": {
          "base_uri": "https://localhost:8080/"
        },
        "id": "ji8VqiJBKNGp",
        "outputId": "1044f803-1dcd-4a03-8ebf-1f6ee24cce7b"
      },
      "execution_count": null,
      "outputs": [
        {
          "output_type": "stream",
          "name": "stdout",
          "text": [
            "*** Test Programı Başladı ***\n",
            "Soru 1: Dünya düz müdür?\n",
            "Cevap: hayır\n",
            "Cevabınız True\n"
          ]
        }
      ]
    }
  ]
}